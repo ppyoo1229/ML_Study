{
 "cells": [
  {
   "cell_type": "code",
   "execution_count": 1,
   "id": "f247d307-4e23-4df7-aa62-49fdfc29ab30",
   "metadata": {},
   "outputs": [
    {
     "data": {
      "text/plain": [
       "123"
      ]
     },
     "execution_count": 1,
     "metadata": {},
     "output_type": "execute_result"
    }
   ],
   "source": [
    "123"
   ]
  },
  {
   "cell_type": "markdown",
   "id": "9c5fa9ca-9ea7-4789-a34b-b30c27c41c50",
   "metadata": {},
   "source": [
    "# ㅁㅁㅁㄴㄴ"
   ]
  },
  {
   "cell_type": "code",
   "execution_count": 2,
   "id": "afcb48eb-77e7-4930-b363-0bc93e4aead2",
   "metadata": {},
   "outputs": [],
   "source": [
    "# 123"
   ]
  },
  {
   "cell_type": "markdown",
   "id": "160e8905-8502-4371-83f3-6d5b31e1f221",
   "metadata": {},
   "source": [
    "## ㄱㄱㄱㄱ"
   ]
  },
  {
   "cell_type": "code",
   "execution_count": null,
   "id": "f9690a60-e014-4cbc-90c3-7100322cdaba",
   "metadata": {},
   "outputs": [],
   "source": []
  }
 ],
 "metadata": {
  "kernelspec": {
   "display_name": "Python 3 (ipykernel)",
   "language": "python",
   "name": "python3"
  },
  "language_info": {
   "codemirror_mode": {
    "name": "ipython",
    "version": 3
   },
   "file_extension": ".py",
   "mimetype": "text/x-python",
   "name": "python",
   "nbconvert_exporter": "python",
   "pygments_lexer": "ipython3",
   "version": "3.11.7"
  }
 },
 "nbformat": 4,
 "nbformat_minor": 5
}
