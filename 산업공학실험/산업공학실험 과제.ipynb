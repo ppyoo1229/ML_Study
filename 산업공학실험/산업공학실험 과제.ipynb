{
 "cells": [
  {
   "cell_type": "code",
   "execution_count": 1,
   "id": "f247d307-4e23-4df7-aa62-49fdfc29ab30",
   "metadata": {},
   "outputs": [
    {
     "data": {
      "text/plain": [
       "123"
      ]
     },
     "execution_count": 1,
     "metadata": {},
     "output_type": "execute_result"
    }
   ],
   "source": [
    "123"
   ]
  },
  {
   "cell_type": "markdown",
   "id": "9c5fa9ca-9ea7-4789-a34b-b30c27c41c50",
   "metadata": {},
   "source": [
    "# ㅁㅁㅁㄴㄴ"
   ]
  },
  {
   "cell_type": "code",
   "execution_count": null,
   "id": "afcb48eb-77e7-4930-b363-0bc93e4aead2",
   "metadata": {},
   "outputs": [],
   "source": []
  },
  {
   "cell_type": "code",
   "execution_count": null,
   "id": "9ad20d19-28ff-41d1-8e6a-a7f6a3de8bb2",
   "metadata": {},
   "outputs": [],
   "source": []
  }
 ],
 "metadata": {
  "kernelspec": {
   "display_name": "Python 3 (ipykernel)",
   "language": "python",
   "name": "python3"
  },
  "language_info": {
   "codemirror_mode": {
    "name": "ipython",
    "version": 3
   },
   "file_extension": ".py",
   "mimetype": "text/x-python",
   "name": "python",
   "nbconvert_exporter": "python",
   "pygments_lexer": "ipython3",
   "version": "3.11.7"
  }
 },
 "nbformat": 4,
 "nbformat_minor": 5
}
