{
 "cells": [
  {
   "cell_type": "markdown",
   "id": "5e1a0aa0-a03e-492b-a6d9-70333c5693db",
   "metadata": {},
   "source": [
    "# DataFrame\n",
    "## # 경찰청_연도별 사이버 범죄 통계 현황.csv\n",
    "- 연도별 사이버 범죄 세부 유형별 발생, 검거 통계\n",
    "- 2014년도부터 2020년도 자료\n",
    "- 해킹, 서비스거부, 악성프로그램, 인터넷사기, 사이버금융범죄 등"
   ]
  },
  {
   "cell_type": "code",
   "execution_count": null,
   "id": "a8c12c20-41d3-4a3a-a2a9-c8e8140c45a3",
   "metadata": {},
   "outputs": [],
   "source": [
    "import numpy as np\n",
    "import pandas as pd\n",
    "from pandas import Series\n",
    "import matplotlib.pyplot as plt"
   ]
  },
  {
   "cell_type": "code",
   "execution_count": 33,
   "id": "49303389-5878-41ea-8ecd-8320c64b171c",
   "metadata": {},
   "outputs": [],
   "source": [
    "plt.style.use('seaborn-v0_8-whitegrid')\n",
    "plt.rc('font', family='Malgun Gothic') \n",
    "plt.rcParams['axes.unicode_minus'] = False"
   ]
  },
  {
   "cell_type": "code",
   "execution_count": 11,
   "id": "568dcc1a-7dd9-4e96-816c-a031ecbe70b9",
   "metadata": {},
   "outputs": [
    {
     "data": {
      "text/plain": [
       "(14, 35)"
      ]
     },
     "execution_count": 11,
     "metadata": {},
     "output_type": "execute_result"
    }
   ],
   "source": [
    "df = pd.read_csv('C:/Users/sj123/Downloads/경찰청_연도별 사이버 범죄 통계.csv')\n",
    "df.shape"
   ]
  },
  {
   "cell_type": "code",
   "execution_count": 12,
   "id": "7e384c02-370a-4d1c-9aa1-521fcf69e344",
   "metadata": {},
   "outputs": [
    {
     "data": {
      "text/html": [
       "<div>\n",
       "<style scoped>\n",
       "    .dataframe tbody tr th:only-of-type {\n",
       "        vertical-align: middle;\n",
       "    }\n",
       "\n",
       "    .dataframe tbody tr th {\n",
       "        vertical-align: top;\n",
       "    }\n",
       "\n",
       "    .dataframe thead th {\n",
       "        text-align: right;\n",
       "    }\n",
       "</style>\n",
       "<table border=\"1\" class=\"dataframe\">\n",
       "  <thead>\n",
       "    <tr style=\"text-align: right;\">\n",
       "      <th></th>\n",
       "      <th>연도</th>\n",
       "      <th>구분</th>\n",
       "      <th>해킹(계정도용)</th>\n",
       "      <th>해킹(단순침입)</th>\n",
       "      <th>해킹(자료유출)</th>\n",
       "      <th>해킹(자료훼손)</th>\n",
       "      <th>서비스거부공격</th>\n",
       "      <th>악성프로그램(랜섬웨어)</th>\n",
       "      <th>악성프로그램(기타)</th>\n",
       "      <th>기타 정보통신망 침해형 범죄</th>\n",
       "      <th>...</th>\n",
       "      <th>사이버 음란물(일반음란물)</th>\n",
       "      <th>사이버 음란물(아동음란물)</th>\n",
       "      <th>사이버 음란물(불법촬영물유포)</th>\n",
       "      <th>사이버 도박(스포츠토토)</th>\n",
       "      <th>사이버 도박(경마 경륜 경정)</th>\n",
       "      <th>사이버 도박(카지노)</th>\n",
       "      <th>사이버 도박(기타)</th>\n",
       "      <th>사이버 명예훼손(모욕)</th>\n",
       "      <th>사이버 스토킹</th>\n",
       "      <th>기타 불법 컨텐츠</th>\n",
       "    </tr>\n",
       "  </thead>\n",
       "  <tbody>\n",
       "    <tr>\n",
       "      <th>0</th>\n",
       "      <td>2020</td>\n",
       "      <td>발생건수</td>\n",
       "      <td>1067</td>\n",
       "      <td>1621</td>\n",
       "      <td>130</td>\n",
       "      <td>358</td>\n",
       "      <td>25</td>\n",
       "      <td>24</td>\n",
       "      <td>145</td>\n",
       "      <td>974</td>\n",
       "      <td>...</td>\n",
       "      <td>1366</td>\n",
       "      <td>2623</td>\n",
       "      <td>842.0</td>\n",
       "      <td>3222</td>\n",
       "      <td>332</td>\n",
       "      <td>429</td>\n",
       "      <td>1709</td>\n",
       "      <td>19388</td>\n",
       "      <td>42</td>\n",
       "      <td>204</td>\n",
       "    </tr>\n",
       "    <tr>\n",
       "      <th>1</th>\n",
       "      <td>2020</td>\n",
       "      <td>검거건수</td>\n",
       "      <td>117</td>\n",
       "      <td>217</td>\n",
       "      <td>46</td>\n",
       "      <td>168</td>\n",
       "      <td>10</td>\n",
       "      <td>0</td>\n",
       "      <td>81</td>\n",
       "      <td>272</td>\n",
       "      <td>...</td>\n",
       "      <td>987</td>\n",
       "      <td>2398</td>\n",
       "      <td>678.0</td>\n",
       "      <td>3154</td>\n",
       "      <td>315</td>\n",
       "      <td>382</td>\n",
       "      <td>1585</td>\n",
       "      <td>12638</td>\n",
       "      <td>39</td>\n",
       "      <td>126</td>\n",
       "    </tr>\n",
       "    <tr>\n",
       "      <th>2</th>\n",
       "      <td>2019</td>\n",
       "      <td>발생건수</td>\n",
       "      <td>751</td>\n",
       "      <td>1458</td>\n",
       "      <td>114</td>\n",
       "      <td>341</td>\n",
       "      <td>35</td>\n",
       "      <td>24</td>\n",
       "      <td>246</td>\n",
       "      <td>669</td>\n",
       "      <td>...</td>\n",
       "      <td>1769</td>\n",
       "      <td>756</td>\n",
       "      <td>165.0</td>\n",
       "      <td>3078</td>\n",
       "      <td>366</td>\n",
       "      <td>366</td>\n",
       "      <td>1536</td>\n",
       "      <td>16633</td>\n",
       "      <td>25</td>\n",
       "      <td>251</td>\n",
       "    </tr>\n",
       "    <tr>\n",
       "      <th>3</th>\n",
       "      <td>2019</td>\n",
       "      <td>검거건수</td>\n",
       "      <td>118</td>\n",
       "      <td>277</td>\n",
       "      <td>41</td>\n",
       "      <td>120</td>\n",
       "      <td>14</td>\n",
       "      <td>0</td>\n",
       "      <td>189</td>\n",
       "      <td>248</td>\n",
       "      <td>...</td>\n",
       "      <td>1436</td>\n",
       "      <td>589</td>\n",
       "      <td>139.0</td>\n",
       "      <td>3017</td>\n",
       "      <td>352</td>\n",
       "      <td>353</td>\n",
       "      <td>1440</td>\n",
       "      <td>11632</td>\n",
       "      <td>20</td>\n",
       "      <td>176</td>\n",
       "    </tr>\n",
       "    <tr>\n",
       "      <th>4</th>\n",
       "      <td>2018</td>\n",
       "      <td>발생건수</td>\n",
       "      <td>721</td>\n",
       "      <td>1003</td>\n",
       "      <td>114</td>\n",
       "      <td>340</td>\n",
       "      <td>20</td>\n",
       "      <td>33</td>\n",
       "      <td>86</td>\n",
       "      <td>571</td>\n",
       "      <td>...</td>\n",
       "      <td>2661</td>\n",
       "      <td>1172</td>\n",
       "      <td>NaN</td>\n",
       "      <td>1629</td>\n",
       "      <td>276</td>\n",
       "      <td>176</td>\n",
       "      <td>931</td>\n",
       "      <td>15926</td>\n",
       "      <td>60</td>\n",
       "      <td>208</td>\n",
       "    </tr>\n",
       "  </tbody>\n",
       "</table>\n",
       "<p>5 rows × 35 columns</p>\n",
       "</div>"
      ],
      "text/plain": [
       "     연도    구분  해킹(계정도용)  해킹(단순침입)  해킹(자료유출)  해킹(자료훼손)  서비스거부공격  악성프로그램(랜섬웨어)  \\\n",
       "0  2020  발생건수      1067      1621       130       358       25            24   \n",
       "1  2020  검거건수       117       217        46       168       10             0   \n",
       "2  2019  발생건수       751      1458       114       341       35            24   \n",
       "3  2019  검거건수       118       277        41       120       14             0   \n",
       "4  2018  발생건수       721      1003       114       340       20            33   \n",
       "\n",
       "   악성프로그램(기타)  기타 정보통신망 침해형 범죄  ...  사이버 음란물(일반음란물)  사이버 음란물(아동음란물)  \\\n",
       "0         145              974  ...            1366            2623   \n",
       "1          81              272  ...             987            2398   \n",
       "2         246              669  ...            1769             756   \n",
       "3         189              248  ...            1436             589   \n",
       "4          86              571  ...            2661            1172   \n",
       "\n",
       "   사이버 음란물(불법촬영물유포)  사이버 도박(스포츠토토)  사이버 도박(경마 경륜 경정)  사이버 도박(카지노)  사이버 도박(기타)  \\\n",
       "0             842.0           3222               332          429        1709   \n",
       "1             678.0           3154               315          382        1585   \n",
       "2             165.0           3078               366          366        1536   \n",
       "3             139.0           3017               352          353        1440   \n",
       "4               NaN           1629               276          176         931   \n",
       "\n",
       "   사이버 명예훼손(모욕)  사이버 스토킹  기타 불법 컨텐츠  \n",
       "0         19388       42        204  \n",
       "1         12638       39        126  \n",
       "2         16633       25        251  \n",
       "3         11632       20        176  \n",
       "4         15926       60        208  \n",
       "\n",
       "[5 rows x 35 columns]"
      ]
     },
     "execution_count": 12,
     "metadata": {},
     "output_type": "execute_result"
    }
   ],
   "source": [
    "df.head()"
   ]
  },
  {
   "cell_type": "code",
   "execution_count": 13,
   "id": "d4c272cb-919a-48e3-9c7d-f7576216e463",
   "metadata": {},
   "outputs": [
    {
     "name": "stdout",
     "output_type": "stream",
     "text": [
      "<class 'pandas.core.frame.DataFrame'>\n",
      "RangeIndex: 14 entries, 0 to 13\n",
      "Data columns (total 35 columns):\n",
      " #   Column            Non-Null Count  Dtype  \n",
      "---  ------            --------------  -----  \n",
      " 0   연도                14 non-null     int64  \n",
      " 1   구분                14 non-null     object \n",
      " 2   해킹(계정도용)          14 non-null     int64  \n",
      " 3   해킹(단순침입)          14 non-null     int64  \n",
      " 4   해킹(자료유출)          14 non-null     int64  \n",
      " 5   해킹(자료훼손)          14 non-null     int64  \n",
      " 6   서비스거부공격           14 non-null     int64  \n",
      " 7   악성프로그램(랜섬웨어)      14 non-null     int64  \n",
      " 8   악성프로그램(기타)        14 non-null     int64  \n",
      " 9   기타 정보통신망 침해형 범죄   14 non-null     int64  \n",
      " 10  사이버사기(직거래)        14 non-null     int64  \n",
      " 11  사이버사기(쇼핑몰)        14 non-null     int64  \n",
      " 12  사이버사기(게임)         14 non-null     int64  \n",
      " 13  사이버사기(이메일 무역사기)   14 non-null     int64  \n",
      " 14  사이버사기(기타)         14 non-null     int64  \n",
      " 15  사이버금융범죄(피싱)       14 non-null     int64  \n",
      " 16  사이버금융범죄(파밍)       14 non-null     int64  \n",
      " 17  사이버금융범죄(스미싱)      14 non-null     int64  \n",
      " 18  사이버금융범죄(메모리해킹)    14 non-null     int64  \n",
      " 19  사이버금융범죄(몸캠피싱)     14 non-null     int64  \n",
      " 20  사이버금융범죄(메신저이용사기)  4 non-null      float64\n",
      " 21  사이버금융범죄(기타)       14 non-null     int64  \n",
      " 22  개인위치정보 침해         14 non-null     int64  \n",
      " 23  사이버저작권침해          14 non-null     int64  \n",
      " 24  기타 정보통신망 이용형 범죄   14 non-null     int64  \n",
      " 25  사이버 음란물(일반음란물)    14 non-null     int64  \n",
      " 26  사이버 음란물(아동음란물)    14 non-null     int64  \n",
      " 27  사이버 음란물(불법촬영물유포)  4 non-null      float64\n",
      " 28  사이버 도박(스포츠토토)     14 non-null     int64  \n",
      " 29  사이버 도박(경마 경륜 경정)  14 non-null     int64  \n",
      " 30  사이버 도박(카지노)       14 non-null     int64  \n",
      " 31  사이버 도박(기타)        14 non-null     int64  \n",
      " 32  사이버 명예훼손(모욕)      14 non-null     int64  \n",
      " 33  사이버 스토킹           14 non-null     int64  \n",
      " 34  기타 불법 컨텐츠         14 non-null     int64  \n",
      "dtypes: float64(2), int64(32), object(1)\n",
      "memory usage: 4.0+ KB\n"
     ]
    }
   ],
   "source": [
    "df.info()"
   ]
  },
  {
   "cell_type": "markdown",
   "id": "1e89065c-d007-433a-80d3-beaad71d7bf0",
   "metadata": {},
   "source": [
    "### # 칼럼명 변경하기"
   ]
  },
  {
   "cell_type": "code",
   "execution_count": 21,
   "id": "5e523770-9a41-4e32-83f9-33edf8984617",
   "metadata": {},
   "outputs": [
    {
     "data": {
      "text/plain": [
       "Index(['연도', '구분', '계정도용', '단순침입', '자료유출', '자료훼손', '서비스거부공격', '랜섬웨어',\n",
       "       '기타 정보통신망 침해형 범죄', '직거래', '쇼핑몰', '게임', '이메일 무역사기', '피싱', '파밍', '스미싱',\n",
       "       '메모리해킹', '몸캠피싱', '메신저이용사기', '개인위치정보 침해', '사이버저작권침해', '기타 정보통신망 이용형 범죄',\n",
       "       '일반음란물', '아동음란물', '불법촬영물유포', '스포츠토토', '경마 경륜 경정', '카지노', '모욕',\n",
       "       '사이버 스토킹', '기타 불법 컨텐츠'],\n",
       "      dtype='object')"
      ]
     },
     "execution_count": 21,
     "metadata": {},
     "output_type": "execute_result"
    }
   ],
   "source": [
    "def column_name(col):\n",
    "    if '(' in col and ')' in col: # 문자열 col 안에 '(' 와 ')' 가 모두 포함되어 있다\n",
    "        return col[col.find('(')+1:col.find(')')].strip() # +1 : 괄호 제외 괄호 안 첫 글자부터 시작해서 괄호까지 슬라이싱\n",
    "    else:\n",
    "        return col.strip() # 괄호 없을 때 그냥 컬럼 전체를 리턴 (앞뒤 공백만 제거)\n",
    "\n",
    "df.columns = [column_name(col) for col in df.columns]\n",
    "df.columns"
   ]
  },
  {
   "cell_type": "code",
   "execution_count": 19,
   "id": "82efbc33-6172-4a6b-b401-024d60b19b03",
   "metadata": {},
   "outputs": [],
   "source": [
    "# 1. '기타'라는 이름의 컬럼 추출\n",
    "etc = [col for col in df.columns if col == '기타']\n",
    "\n",
    "# 2. 합친 새 컬럼 생성\n",
    "df['기타'] = df[etc].sum(axis=1)\n",
    "\n",
    "# 3. 기존 '기타' 컬럼들 삭제\n",
    "df.drop(columns=etc, inplace=True)"
   ]
  },
  {
   "cell_type": "code",
   "execution_count": 22,
   "id": "35291072-332e-4365-86aa-d5fabd18921a",
   "metadata": {},
   "outputs": [],
   "source": [
    "df.rename(columns={'기타 정보통신망 침해형 범죄': '정보통신망_침해형'}, inplace=True)\n",
    "df.rename(columns={'기타 정보통신망 이용형 범죄': '정보통신망_이용형'}, inplace=True)\n",
    "df.rename(columns={'기타 불법 컨텐츠': '불법컨텐츠'}, inplace=True)"
   ]
  },
  {
   "cell_type": "code",
   "execution_count": 23,
   "id": "034f7285-eefb-4c2d-88ba-b332ac617147",
   "metadata": {},
   "outputs": [
    {
     "data": {
      "text/plain": [
       "Index(['연도', '구분', '계정도용', '단순침입', '자료유출', '자료훼손', '서비스거부공격', '랜섬웨어',\n",
       "       '정보통신망_침해형', '직거래', '쇼핑몰', '게임', '이메일 무역사기', '피싱', '파밍', '스미싱', '메모리해킹',\n",
       "       '몸캠피싱', '메신저이용사기', '개인위치정보 침해', '사이버저작권침해', '정보통신망_이용형', '일반음란물',\n",
       "       '아동음란물', '불법촬영물유포', '스포츠토토', '경마 경륜 경정', '카지노', '모욕', '사이버 스토킹',\n",
       "       '불법컨텐츠'],\n",
       "      dtype='object')"
      ]
     },
     "execution_count": 23,
     "metadata": {},
     "output_type": "execute_result"
    }
   ],
   "source": [
    "df.columns"
   ]
  },
  {
   "cell_type": "code",
   "execution_count": 24,
   "id": "4f4879dd-bfd2-4ad0-a2ee-3d49a0985d89",
   "metadata": {},
   "outputs": [
    {
     "data": {
      "text/plain": [
       "(14, 31)"
      ]
     },
     "execution_count": 24,
     "metadata": {},
     "output_type": "execute_result"
    }
   ],
   "source": [
    "df.shape"
   ]
  },
  {
   "cell_type": "code",
   "execution_count": 25,
   "id": "02d32bd0-5c8a-491a-a7f7-457cf6319dd8",
   "metadata": {},
   "outputs": [
    {
     "data": {
      "text/html": [
       "<div>\n",
       "<style scoped>\n",
       "    .dataframe tbody tr th:only-of-type {\n",
       "        vertical-align: middle;\n",
       "    }\n",
       "\n",
       "    .dataframe tbody tr th {\n",
       "        vertical-align: top;\n",
       "    }\n",
       "\n",
       "    .dataframe thead th {\n",
       "        text-align: right;\n",
       "    }\n",
       "</style>\n",
       "<table border=\"1\" class=\"dataframe\">\n",
       "  <thead>\n",
       "    <tr style=\"text-align: right;\">\n",
       "      <th></th>\n",
       "      <th>연도</th>\n",
       "      <th>구분</th>\n",
       "      <th>계정도용</th>\n",
       "      <th>단순침입</th>\n",
       "      <th>자료유출</th>\n",
       "      <th>자료훼손</th>\n",
       "      <th>서비스거부공격</th>\n",
       "      <th>랜섬웨어</th>\n",
       "      <th>정보통신망_침해형</th>\n",
       "      <th>직거래</th>\n",
       "      <th>...</th>\n",
       "      <th>정보통신망_이용형</th>\n",
       "      <th>일반음란물</th>\n",
       "      <th>아동음란물</th>\n",
       "      <th>불법촬영물유포</th>\n",
       "      <th>스포츠토토</th>\n",
       "      <th>경마 경륜 경정</th>\n",
       "      <th>카지노</th>\n",
       "      <th>모욕</th>\n",
       "      <th>사이버 스토킹</th>\n",
       "      <th>불법컨텐츠</th>\n",
       "    </tr>\n",
       "  </thead>\n",
       "  <tbody>\n",
       "    <tr>\n",
       "      <th>0</th>\n",
       "      <td>2020</td>\n",
       "      <td>발생건수</td>\n",
       "      <td>1067</td>\n",
       "      <td>1621</td>\n",
       "      <td>130</td>\n",
       "      <td>358</td>\n",
       "      <td>25</td>\n",
       "      <td>24</td>\n",
       "      <td>974</td>\n",
       "      <td>123168</td>\n",
       "      <td>...</td>\n",
       "      <td>2594</td>\n",
       "      <td>1366</td>\n",
       "      <td>2623</td>\n",
       "      <td>842.0</td>\n",
       "      <td>3222</td>\n",
       "      <td>332</td>\n",
       "      <td>429</td>\n",
       "      <td>19388</td>\n",
       "      <td>42</td>\n",
       "      <td>204</td>\n",
       "    </tr>\n",
       "    <tr>\n",
       "      <th>1</th>\n",
       "      <td>2020</td>\n",
       "      <td>검거건수</td>\n",
       "      <td>117</td>\n",
       "      <td>217</td>\n",
       "      <td>46</td>\n",
       "      <td>168</td>\n",
       "      <td>10</td>\n",
       "      <td>0</td>\n",
       "      <td>272</td>\n",
       "      <td>93690</td>\n",
       "      <td>...</td>\n",
       "      <td>1254</td>\n",
       "      <td>987</td>\n",
       "      <td>2398</td>\n",
       "      <td>678.0</td>\n",
       "      <td>3154</td>\n",
       "      <td>315</td>\n",
       "      <td>382</td>\n",
       "      <td>12638</td>\n",
       "      <td>39</td>\n",
       "      <td>126</td>\n",
       "    </tr>\n",
       "    <tr>\n",
       "      <th>2</th>\n",
       "      <td>2019</td>\n",
       "      <td>발생건수</td>\n",
       "      <td>751</td>\n",
       "      <td>1458</td>\n",
       "      <td>114</td>\n",
       "      <td>341</td>\n",
       "      <td>35</td>\n",
       "      <td>24</td>\n",
       "      <td>669</td>\n",
       "      <td>89797</td>\n",
       "      <td>...</td>\n",
       "      <td>2559</td>\n",
       "      <td>1769</td>\n",
       "      <td>756</td>\n",
       "      <td>165.0</td>\n",
       "      <td>3078</td>\n",
       "      <td>366</td>\n",
       "      <td>366</td>\n",
       "      <td>16633</td>\n",
       "      <td>25</td>\n",
       "      <td>251</td>\n",
       "    </tr>\n",
       "    <tr>\n",
       "      <th>3</th>\n",
       "      <td>2019</td>\n",
       "      <td>검거건수</td>\n",
       "      <td>118</td>\n",
       "      <td>277</td>\n",
       "      <td>41</td>\n",
       "      <td>120</td>\n",
       "      <td>14</td>\n",
       "      <td>0</td>\n",
       "      <td>248</td>\n",
       "      <td>72935</td>\n",
       "      <td>...</td>\n",
       "      <td>1510</td>\n",
       "      <td>1436</td>\n",
       "      <td>589</td>\n",
       "      <td>139.0</td>\n",
       "      <td>3017</td>\n",
       "      <td>352</td>\n",
       "      <td>353</td>\n",
       "      <td>11632</td>\n",
       "      <td>20</td>\n",
       "      <td>176</td>\n",
       "    </tr>\n",
       "    <tr>\n",
       "      <th>4</th>\n",
       "      <td>2018</td>\n",
       "      <td>발생건수</td>\n",
       "      <td>721</td>\n",
       "      <td>1003</td>\n",
       "      <td>114</td>\n",
       "      <td>340</td>\n",
       "      <td>20</td>\n",
       "      <td>33</td>\n",
       "      <td>571</td>\n",
       "      <td>74044</td>\n",
       "      <td>...</td>\n",
       "      <td>1954</td>\n",
       "      <td>2661</td>\n",
       "      <td>1172</td>\n",
       "      <td>NaN</td>\n",
       "      <td>1629</td>\n",
       "      <td>276</td>\n",
       "      <td>176</td>\n",
       "      <td>15926</td>\n",
       "      <td>60</td>\n",
       "      <td>208</td>\n",
       "    </tr>\n",
       "  </tbody>\n",
       "</table>\n",
       "<p>5 rows × 31 columns</p>\n",
       "</div>"
      ],
      "text/plain": [
       "     연도    구분  계정도용  단순침입  자료유출  자료훼손  서비스거부공격  랜섬웨어  정보통신망_침해형     직거래  ...  \\\n",
       "0  2020  발생건수  1067  1621   130   358       25    24        974  123168  ...   \n",
       "1  2020  검거건수   117   217    46   168       10     0        272   93690  ...   \n",
       "2  2019  발생건수   751  1458   114   341       35    24        669   89797  ...   \n",
       "3  2019  검거건수   118   277    41   120       14     0        248   72935  ...   \n",
       "4  2018  발생건수   721  1003   114   340       20    33        571   74044  ...   \n",
       "\n",
       "   정보통신망_이용형  일반음란물  아동음란물  불법촬영물유포  스포츠토토  경마 경륜 경정  카지노     모욕  사이버 스토킹  \\\n",
       "0       2594   1366   2623    842.0   3222       332  429  19388       42   \n",
       "1       1254    987   2398    678.0   3154       315  382  12638       39   \n",
       "2       2559   1769    756    165.0   3078       366  366  16633       25   \n",
       "3       1510   1436    589    139.0   3017       352  353  11632       20   \n",
       "4       1954   2661   1172      NaN   1629       276  176  15926       60   \n",
       "\n",
       "   불법컨텐츠  \n",
       "0    204  \n",
       "1    126  \n",
       "2    251  \n",
       "3    176  \n",
       "4    208  \n",
       "\n",
       "[5 rows x 31 columns]"
      ]
     },
     "execution_count": 25,
     "metadata": {},
     "output_type": "execute_result"
    }
   ],
   "source": [
    "df.head()"
   ]
  },
  {
   "cell_type": "markdown",
   "id": "3eb3d95d-36af-4daf-aa1a-58850df68a89",
   "metadata": {},
   "source": [
    "## 연도 "
   ]
  },
  {
   "cell_type": "code",
   "execution_count": 40,
   "id": "4a1983e8-38fc-45e5-b899-799cbd8e29a1",
   "metadata": {},
   "outputs": [
    {
     "data": {
      "text/plain": [
       "<AxesSubplot: title={'center': 'Cyber Crime Trend by Year'}, xlabel='연도'>"
      ]
     },
     "execution_count": 40,
     "metadata": {},
     "output_type": "execute_result"
    },
    {
     "data": {
      "image/png": "[encoded data removed]",
      "text/plain": [
       "<Figure size 1200x600 with 1 Axes>"
      ]
     },
     "metadata": {},
     "output_type": "display_data"
    }
   ],
   "source": [
    "df_yearly_mean = df.groupby('연도').mean(numeric_only=True)\n",
    "\n",
    "# 시각화\n",
    "df_yearly_mean.plot(title='Cyber Crime Trend by Year', figsize=(12, 6))"
   ]
  },
  {
   "cell_type": "code",
   "execution_count": 41,
   "id": "0b7e6257-0eaf-4ec0-a19f-7dc373c6472a",
   "metadata": {},
   "outputs": [
    {
     "ename": "NameError",
     "evalue": "name 'crime_cols' is not defined",
     "output_type": "error",
     "traceback": [
      "\u001b[1;31m---------------------------------------------------------------------------\u001b[0m",
      "\u001b[1;31mNameError\u001b[0m                                 Traceback (most recent call last)",
      "Cell \u001b[1;32mIn[41], line 1\u001b[0m\n\u001b[1;32m----> 1\u001b[0m df_yearly \u001b[38;5;241m=\u001b[39m df\u001b[38;5;241m.\u001b[39mgroupby(\u001b[38;5;124m'\u001b[39m\u001b[38;5;124m연도\u001b[39m\u001b[38;5;124m'\u001b[39m)[crime_cols]\u001b[38;5;241m.\u001b[39mmean()\n\u001b[0;32m      3\u001b[0m \u001b[38;5;66;03m# 2. 각 연도마다 하나씩 막대그래프 출력\u001b[39;00m\n\u001b[0;32m      4\u001b[0m \u001b[38;5;28;01mfor\u001b[39;00m year \u001b[38;5;129;01min\u001b[39;00m df_yearly\u001b[38;5;241m.\u001b[39mindex:\n",
      "\u001b[1;31mNameError\u001b[0m: name 'crime_cols' is not defined"
     ]
    }
   ],
   "source": [
    "crime_cols = df_total.columns.difference(['year', 'type'])\n",
    "\n",
    "df_yearly = df.groupby('연도')[crime_cols].mean()\n",
    "\n",
    "# 2. 각 연도마다 하나씩 막대그래프 출력\n",
    "for year in df_yearly.index:\n",
    "    plt.figure(figsize=(12, 5))\n",
    "    df_yearly.loc[year].sort_values(ascending=False).plot(kind='bar', color='slateblue')\n",
    "    plt.title(f'All Cyber Crimes in {year}')\n",
    "    plt.ylabel('Average')\n",
    "    plt.xticks(rotation=90)\n",
    "    plt.tight_layout()\n",
    "    plt.show()"
   ]
  },
  {
   "cell_type": "code",
   "execution_count": null,
   "id": "64d29af9-c7c4-4244-9d1e-9693a24675d6",
   "metadata": {},
   "outputs": [],
   "source": []
  }
 ],
 "metadata": {
  "kernelspec": {
   "display_name": "Python 3 (ipykernel)",
   "language": "python",
   "name": "python3"
  },
  "language_info": {
   "codemirror_mode": {
    "name": "ipython",
    "version": 3
   },
   "file_extension": ".py",
   "mimetype": "text/x-python",
   "name": "python",
   "nbconvert_exporter": "python",
   "pygments_lexer": "ipython3",
   "version": "3.11.7"
  }
 },
 "nbformat": 4,
 "nbformat_minor": 5
}
